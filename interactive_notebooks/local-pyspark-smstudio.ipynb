{
 "cells": [
  {
   "cell_type": "markdown",
   "metadata": {},
   "source": [
    "# Local PySpark on SageMaker Studio\n",
    "\n",
    "This notebook shows how to run local PySpark code within a SageMaker Studio notebook. For this example we use the **Data Science - Python3** image and kernel, but this methodology should work for any kernel within SM Studio, including BYO custom images."
   ]
  },
  {
   "cell_type": "markdown",
   "metadata": {},
   "source": [
    "## Setup\n",
    "There are two things that must be done to enable local PySpark within SageMaker Studio.\n",
    "1. Make sure there is an available Java installation. The easiest way to install JDK and set the proper paths is to utilize conda\n",
    "2. We need to append the local container's hostname into `/etc/hosts` in order for Spark to properly communicate"
   ]
  },
  {
   "cell_type": "code",
   "execution_count": 2,
   "metadata": {},
   "outputs": [
    {
     "name": "stdout",
     "output_type": "stream",
     "text": [
      "Collecting package metadata (current_repodata.json): done\n",
      "Solving environment: done\n",
      "\n",
      "# All requested packages already installed.\n",
      "\n",
      "Retrieving notices: ...working... done\n",
      "\n",
      "Note: you may need to restart the kernel to use updated packages.\n"
     ]
    }
   ],
   "source": [
    "# Setup - Run only once per Kernel App\n",
    "%conda install openjdk -y"
   ]
  },
  {
   "cell_type": "markdown",
   "metadata": {},
   "source": [
    "## Install PySpark"
   ]
  },
  {
   "cell_type": "code",
   "execution_count": 3,
   "metadata": {},
   "outputs": [
    {
     "name": "stdout",
     "output_type": "stream",
     "text": [
      "Requirement already satisfied: pyspark==3.2.0 in /opt/conda/lib/python3.7/site-packages (3.2.0)\n",
      "Requirement already satisfied: py4j==0.10.9.2 in /opt/conda/lib/python3.7/site-packages (from pyspark==3.2.0) (0.10.9.2)\n",
      "\u001b[33mWARNING: Running pip as the 'root' user can result in broken permissions and conflicting behaviour with the system package manager. It is recommended to use a virtual environment instead: https://pip.pypa.io/warnings/venv\u001b[0m\u001b[33m\n",
      "\u001b[0m\n",
      "\u001b[1m[\u001b[0m\u001b[34;49mnotice\u001b[0m\u001b[1;39;49m]\u001b[0m\u001b[39;49m A new release of pip available: \u001b[0m\u001b[31;49m22.2.2\u001b[0m\u001b[39;49m -> \u001b[0m\u001b[32;49m22.3\u001b[0m\n",
      "\u001b[1m[\u001b[0m\u001b[34;49mnotice\u001b[0m\u001b[1;39;49m]\u001b[0m\u001b[39;49m To update, run: \u001b[0m\u001b[32;49mpip install --upgrade pip\u001b[0m\n",
      "Note: you may need to restart the kernel to use updated packages.\n"
     ]
    }
   ],
   "source": [
    "%pip install pyspark==3.2.0"
   ]
  },
  {
   "cell_type": "markdown",
   "metadata": {},
   "source": [
    "## Utilize S3 Data within local PySpark\n",
    "* By specifying the `hadoop-aws` jar in our Spark config we're able to access S3 datasets using the s3a file prefix. \n",
    "* Since we've already authenticated ourself to SageMaker Studio , we can use our assumed SageMaker ExecutionRole for any S3 reads/writes by setting the credential provider as `ContainerCredentialsProvider`"
   ]
  },
  {
   "cell_type": "code",
   "execution_count": 4,
   "metadata": {},
   "outputs": [
    {
     "name": "stdout",
     "output_type": "stream",
     "text": [
      "3.2.0\n"
     ]
    }
   ],
   "source": [
    "# Import pyspark and build Spark session\n",
    "from pyspark.sql import SparkSession\n",
    "\n",
    "spark = (\n",
    "    SparkSession.builder.appName(\"PySparkApp\")\n",
    "    .config(\"spark.jars.packages\", \"org.apache.hadoop:hadoop-aws:3.2.2\")\n",
    "    .config(\n",
    "        \"fs.s3a.aws.credentials.provider\",\n",
    "        \"com.amazonaws.auth.ContainerCredentialsProvider\",\n",
    "    )\n",
    "    .getOrCreate()\n",
    ")\n",
    "\n",
    "print(spark.version)"
   ]
  },
  {
   "cell_type": "code",
   "execution_count": 5,
   "metadata": {},
   "outputs": [
    {
     "name": "stdout",
     "output_type": "stream",
     "text": [
      "+-----------------+--------------------+--------------------+-------------------+-------------------+-------------------+-------------------+------------+------------+----------+---------+-------------------+-----+----+---------+--------------------+-----------+----+----------+-------------------+-----------------+------------------+----------------+--------------+\n",
      "|hvfhs_license_num|dispatching_base_num|originating_base_num|   request_datetime|  on_scene_datetime|    pickup_datetime|   dropoff_datetime|PULocationID|DOLocationID|trip_miles|trip_time|base_passenger_fare|tolls| bcf|sales_tax|congestion_surcharge|airport_fee|tips|driver_pay|shared_request_flag|shared_match_flag|access_a_ride_flag|wav_request_flag|wav_match_flag|\n",
      "+-----------------+--------------------+--------------------+-------------------+-------------------+-------------------+-------------------+------------+------------+----------+---------+-------------------+-----+----+---------+--------------------+-----------+----+----------+-------------------+-----------------+------------------+----------------+--------------+\n",
      "|           HV0003|              B02867|              B02867|2019-02-01 00:01:26|2019-02-01 00:02:55|2019-02-01 00:05:18|2019-02-01 00:14:57|         245|         251|      2.45|      579|               9.35|  0.0|0.23|     0.83|                 0.0|       null| 0.0|      7.48|                  Y|                N|                 N|               N|          null|\n",
      "|           HV0003|              B02879|              B02879|2019-02-01 00:26:08|2019-02-01 00:41:29|2019-02-01 00:41:29|2019-02-01 00:49:39|         216|         197|      1.71|      490|               7.91|  0.0| 0.2|      0.7|                 0.0|       null| 2.0|      7.93|                  N|                N|                 N|               N|          null|\n",
      "|           HV0005|              B02510|                null|2019-02-01 00:48:58|               null|2019-02-01 00:51:34|2019-02-01 01:28:29|         261|         234|      5.01|     2159|              44.96|  0.0|1.12|     3.99|                 0.0|       null| 0.0|     35.97|                  N|                Y|                 N|               N|          null|\n",
      "|           HV0005|              B02510|                null|2019-02-01 00:02:15|               null|2019-02-01 00:03:51|2019-02-01 00:07:16|          87|          87|      0.34|      179|               7.19|  0.0|0.18|     0.64|                 0.0|       null| 3.0|      5.39|                  N|                Y|                 N|               N|          null|\n",
      "|           HV0005|              B02510|                null|2019-02-01 00:06:17|               null|2019-02-01 00:09:44|2019-02-01 00:39:56|          87|         198|      6.84|     1799|              24.25| 0.11|0.61|     2.16|                 0.0|       null| 4.0|     17.07|                  N|                Y|                 N|               N|          null|\n",
      "|           HV0005|              B02510|                null|2019-02-01 00:56:01|               null|2019-02-01 00:59:55|2019-02-01 01:06:28|         198|         198|      1.11|      359|               5.75|  0.0|0.14|     0.51|                 0.0|       null| 0.0|       0.0|                  Y|                Y|                 N|               N|          null|\n",
      "|           HV0005|              B02510|                null|2019-02-01 00:07:17|               null|2019-02-01 00:12:06|2019-02-01 00:42:13|         161|         148|      4.53|     1799|              16.39|  0.0|0.41|     1.45|                 0.0|       null| 0.0|     14.31|                  N|                Y|                 N|               N|          null|\n",
      "|           HV0005|              B02510|                null|2019-02-01 00:43:33|               null|2019-02-01 00:45:35|2019-02-01 01:14:56|         148|          21|     11.24|     1739|              29.77| 0.72|0.76|     2.71|                 0.0|       null| 0.0|     22.09|                  N|                Y|                 N|               N|          null|\n",
      "|           HV0003|              B02867|              B02867|2019-02-01 00:00:35|2019-02-01 00:09:33|2019-02-01 00:10:48|2019-02-01 00:20:23|         226|         260|      1.59|      574|               6.99|  0.0|0.17|     0.62|                 0.0|       null| 0.0|      6.51|                  Y|                N|                 N|               N|          null|\n",
      "|           HV0003|              B02867|              B02867|2019-02-01 00:29:16|2019-02-01 00:31:21|2019-02-01 00:32:32|2019-02-01 00:40:25|           7|         223|       1.9|      474|               7.05|  0.0|0.18|     0.63|                 0.0|       null| 0.0|      6.01|                  Y|                N|                 N|               N|          null|\n",
      "|           HV0003|              B02867|              B02867|2019-02-01 00:55:48|2019-02-01 00:58:45|2019-02-01 00:59:54|2019-02-01 01:09:31|         129|          70|      2.74|      576|              10.36|  0.0|0.26|     0.92|                 0.0|       null| 0.0|      7.77|                  N|                N|                 N|               N|          null|\n",
      "|           HV0003|              B02764|              B02764|2019-01-31 23:58:20|2019-01-31 23:58:30|2019-02-01 00:01:11|2019-02-01 00:21:35|         263|         229|      7.91|     1225|               9.48|  0.0|0.63|     2.22|                 0.0|       null| 0.0|     20.05|                  N|                N|                 N|               N|          null|\n",
      "|           HV0003|              B02764|              B02764|2019-02-01 00:33:43|2019-02-01 00:36:22|2019-02-01 00:36:22|2019-02-01 00:55:30|         162|         129|      7.21|     1148|              20.69| 5.76|0.66|     2.35|                 0.0|       null| 0.0|     23.16|                  N|                N|                 N|               N|          null|\n",
      "|           HV0002|              B02914|              B02914|2019-02-01 00:05:50|               null|2019-02-01 00:10:09|2019-02-01 00:31:04|         161|          33|      6.93|     1254|              21.46|  0.0|0.47|     1.71|                null|       null|3.55|     17.71|                  N|                N|                 N|               N|          null|\n",
      "|           HV0003|              B02864|              B02864|2019-02-01 00:54:59|2019-02-01 00:55:05|2019-02-01 00:57:50|2019-02-01 01:05:08|         258|         197|      2.16|      438|                8.5|  0.0|0.21|     0.75|                 0.0|       null| 0.0|      5.99|                  N|                N|                 N|               N|          null|\n",
      "|           HV0003|              B02875|              B02875|2019-01-31 23:59:01|2019-02-01 00:01:00|2019-02-01 00:05:24|2019-02-01 00:17:13|         255|          17|      2.92|      710|              11.51|  0.0|0.29|     1.02|                 0.0|       null| 0.0|      8.53|                  N|                N|                 N|               N|          null|\n",
      "|           HV0003|              B02875|              B02875|2019-02-01 00:24:04|2019-02-01 00:25:56|2019-02-01 00:27:38|2019-02-01 00:32:36|         255|         112|      1.09|      298|               3.92|  0.0| 0.1|     0.35|                 0.0|       null| 0.0|      5.64|                  Y|                N|                 N|               N|          null|\n",
      "|           HV0003|              B02875|              B02875|2019-02-01 00:47:49|2019-02-01 00:48:04|2019-02-01 00:52:50|2019-02-01 00:56:02|         234|         137|      0.37|      192|               7.81|  0.0| 0.2|     0.69|                 0.0|       null| 0.0|      6.11|                  N|                N|                 N|               N|          null|\n",
      "|           HV0003|              B02682|              B02682|2019-02-01 00:25:04|2019-02-01 00:25:24|2019-02-01 00:30:24|2019-02-01 00:59:08|         163|         256|      8.09|     1724|              26.34| 5.76| 0.8|     2.85|                 0.0|       null| 0.0|     28.99|                  N|                N|                 N|               N|          null|\n",
      "|           HV0003|              B02682|              B02682|2019-02-01 00:32:37|2019-02-01 00:32:43|2019-02-01 00:35:06|2019-02-01 00:44:27|         161|         262|       2.4|      561|              22.16|  0.0|0.55|     1.97|                 0.0|       null| 0.0|     16.35|                  N|                N|                 N|               N|          null|\n",
      "+-----------------+--------------------+--------------------+-------------------+-------------------+-------------------+-------------------+------------+------------+----------+---------+-------------------+-----+----+---------+--------------------+-----------+----+----------+-------------------+-----------------+------------------+----------------+--------------+\n",
      "only showing top 20 rows\n",
      "\n"
     ]
    }
   ],
   "source": [
    "parquet_df = spark.read.parquet(\n",
    "    \"s3a://nyc-tlc/trip data/fhvhv_tripdata_2019-02.parquet\", header=True\n",
    ")\n",
    "parquet_df.show()"
   ]
  },
  {
   "cell_type": "code",
   "execution_count": null,
   "metadata": {},
   "outputs": [],
   "source": []
  }
 ],
 "metadata": {
  "instance_type": "ml.t3.medium",
  "kernelspec": {
   "display_name": "Python 3 (Data Science)",
   "language": "python",
   "name": "python3__SAGEMAKER_INTERNAL__arn:aws:sagemaker:us-east-1:081325390199:image/datascience-1.0"
  },
  "language_info": {
   "codemirror_mode": {
    "name": "ipython",
    "version": 3
   },
   "file_extension": ".py",
   "mimetype": "text/x-python",
   "name": "python",
   "nbconvert_exporter": "python",
   "pygments_lexer": "ipython3",
   "version": "3.7.10"
  }
 },
 "nbformat": 4,
 "nbformat_minor": 4
}
